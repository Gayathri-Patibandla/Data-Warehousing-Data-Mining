{
  "nbformat": 4,
  "nbformat_minor": 0,
  "metadata": {
    "colab": {
      "provenance": [],
      "authorship_tag": "ABX9TyOYlcASx/71OHowjhfGvbSH",
      "include_colab_link": true
    },
    "kernelspec": {
      "name": "python3",
      "display_name": "Python 3"
    },
    "language_info": {
      "name": "python"
    }
  },
  "cells": [
    {
      "cell_type": "markdown",
      "metadata": {
        "id": "view-in-github",
        "colab_type": "text"
      },
      "source": [
        "<a href=\"https://colab.research.google.com/github/Gayathri-Patibandla/Data-Warehousing-Data-Mining/blob/main/Apriori.ipynb\" target=\"_parent\"><img src=\"https://colab.research.google.com/assets/colab-badge.svg\" alt=\"Open In Colab\"/></a>"
      ]
    },
    {
      "cell_type": "code",
      "execution_count": 2,
      "metadata": {
        "colab": {
          "base_uri": "https://localhost:8080/"
        },
        "id": "wa4KXN66TsY0",
        "outputId": "ead0d234-076a-46ee-f54f-fc396c854940"
      },
      "outputs": [
        {
          "output_type": "stream",
          "name": "stdout",
          "text": [
            "Frequent Itemsets:\n",
            "     support itemsets\n",
            "0  0.219500    (0_1)\n",
            "1  0.167039    (0_2)\n",
            "2  0.132066    (0_3)\n",
            "3  0.102176    (0_4)\n",
            "\n",
            "Association:\n",
            " Empty DataFrame\n",
            "Columns: [antecedents, consequents, antecedent support, consequent support, support, confidence, lift, leverage, conviction, zhangs_metric]\n",
            "Index: []\n"
          ]
        }
      ],
      "source": [
        "import pandas as pd\n",
        "from mlxtend.frequent_patterns import apriori\n",
        "from mlxtend.frequent_patterns import association_rules\n",
        "data=pd.read_csv('/content/groceries - groceries.csv',header=None)\n",
        "onehot_data=pd.get_dummies(data)\n",
        "frequent_itemsets=apriori(onehot_data,min_support=0.1,use_colnames=True)\n",
        "association_rules=association_rules(frequent_itemsets,metric=\"lift\",min_threshold=1)\n",
        "print(\"Frequent Itemsets:\\n\",frequent_itemsets)\n",
        "print(\"\\nAssociation:\\n\",association_rules)"
      ]
    }
  ]
}